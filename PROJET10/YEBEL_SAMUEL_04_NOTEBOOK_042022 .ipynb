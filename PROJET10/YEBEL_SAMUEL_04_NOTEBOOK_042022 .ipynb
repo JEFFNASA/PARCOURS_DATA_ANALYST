{
 "cells": [
  {
   "cell_type": "code",
   "execution_count": 6,
   "id": "bf9be02b",
   "metadata": {},
   "outputs": [],
   "source": [
    "# C:\\Users\\yebel\\Desktop\\OPENCLASSROOMS\\FORMATION_DATA_ANALYST\\OPENCLASSROOMS_COURS\\PROJET10\n",
    "# PROJET10_DATA_ANALYSIS_OCR\n",
    "# Changement du repertoire: A ne plus changer.\n",
    "import os\n",
    "os.chdir('C://Users//yebel//Desktop//OPENCLASSROOMS//FORMATION_DATA_ANALYST//OPENCLASSROOMS_COURS//PROJET10')"
   ]
  },
  {
   "cell_type": "code",
   "execution_count": 7,
   "id": "628d8e3d",
   "metadata": {},
   "outputs": [],
   "source": [
    "# 0- IMPORTATIONS DES LIBRAIRIES NECESSAIRES POUR L'ANALYSE DES DONNEES.\n",
    "\n",
    "import sys\n",
    "import pandas as pd\n",
    "import numpy as np\n",
    "from sklearn.linear_model import LogisticRegression\n",
    "from sklearn import model_selection\n",
    "from joblib import dump, load"
   ]
  },
  {
   "cell_type": "markdown",
   "id": "c6e477c4",
   "metadata": {},
   "source": [
    "## Le modèle de régression logistique avec la Cross-Validation."
   ]
  },
  {
   "cell_type": "code",
   "execution_count": 8,
   "id": "16c12072",
   "metadata": {},
   "outputs": [
    {
     "data": {
      "text/plain": [
       "LogisticRegressionCV()"
      ]
     },
     "execution_count": 8,
     "metadata": {},
     "output_type": "execute_result"
    }
   ],
   "source": [
    "# 1-Importation du modèle choisit pour l'analyse.\n",
    "\n",
    "model1_reg_log_sklearn_CV = load(\"DATA/Logistic_Trained_model.joblib\")\n",
    "\n",
    "# Visualisation du modèle.\n",
    "\n",
    "model1_reg_log_sklearn_CV"
   ]
  },
  {
   "cell_type": "code",
   "execution_count": 9,
   "id": "c0213f15",
   "metadata": {},
   "outputs": [],
   "source": [
    "# 2-Importation des données de l'expérimentation.\n",
    "\n",
    "#new_data_test = pd.read_csv('DATA/billets_production.csv', sep=\";\", decimal=\".\", header=0)\n",
    "\n",
    "new_data_test = pd.read_csv('DATA/billets_test.csv', sep=\";\", decimal=\".\", header=0)"
   ]
  },
  {
   "cell_type": "code",
   "execution_count": 10,
   "id": "6ebe4eda",
   "metadata": {},
   "outputs": [
    {
     "data": {
      "text/html": [
       "<div>\n",
       "<style scoped>\n",
       "    .dataframe tbody tr th:only-of-type {\n",
       "        vertical-align: middle;\n",
       "    }\n",
       "\n",
       "    .dataframe tbody tr th {\n",
       "        vertical-align: top;\n",
       "    }\n",
       "\n",
       "    .dataframe thead th {\n",
       "        text-align: right;\n",
       "    }\n",
       "</style>\n",
       "<table border=\"1\" class=\"dataframe\">\n",
       "  <thead>\n",
       "    <tr style=\"text-align: right;\">\n",
       "      <th></th>\n",
       "      <th>diagonal</th>\n",
       "      <th>height_left</th>\n",
       "      <th>height_right</th>\n",
       "      <th>margin_low</th>\n",
       "      <th>margin_up</th>\n",
       "      <th>length</th>\n",
       "      <th>id</th>\n",
       "    </tr>\n",
       "  </thead>\n",
       "  <tbody>\n",
       "    <tr>\n",
       "      <th>0</th>\n",
       "      <td>172.09</td>\n",
       "      <td>103.95</td>\n",
       "      <td>103.73</td>\n",
       "      <td>4.39</td>\n",
       "      <td>3.09</td>\n",
       "      <td>113.19</td>\n",
       "      <td>B_1</td>\n",
       "    </tr>\n",
       "    <tr>\n",
       "      <th>1</th>\n",
       "      <td>171.52</td>\n",
       "      <td>104.17</td>\n",
       "      <td>104.03</td>\n",
       "      <td>5.27</td>\n",
       "      <td>3.16</td>\n",
       "      <td>111.82</td>\n",
       "      <td>B_2</td>\n",
       "    </tr>\n",
       "    <tr>\n",
       "      <th>2</th>\n",
       "      <td>171.78</td>\n",
       "      <td>103.80</td>\n",
       "      <td>103.75</td>\n",
       "      <td>3.81</td>\n",
       "      <td>3.24</td>\n",
       "      <td>113.39</td>\n",
       "      <td>B_3</td>\n",
       "    </tr>\n",
       "    <tr>\n",
       "      <th>3</th>\n",
       "      <td>172.02</td>\n",
       "      <td>104.08</td>\n",
       "      <td>103.99</td>\n",
       "      <td>5.57</td>\n",
       "      <td>3.30</td>\n",
       "      <td>111.10</td>\n",
       "      <td>B_4</td>\n",
       "    </tr>\n",
       "    <tr>\n",
       "      <th>4</th>\n",
       "      <td>171.79</td>\n",
       "      <td>104.34</td>\n",
       "      <td>104.37</td>\n",
       "      <td>5.00</td>\n",
       "      <td>3.07</td>\n",
       "      <td>111.87</td>\n",
       "      <td>B_5</td>\n",
       "    </tr>\n",
       "  </tbody>\n",
       "</table>\n",
       "</div>"
      ],
      "text/plain": [
       "   diagonal  height_left  height_right  margin_low  margin_up  length   id\n",
       "0    172.09       103.95        103.73        4.39       3.09  113.19  B_1\n",
       "1    171.52       104.17        104.03        5.27       3.16  111.82  B_2\n",
       "2    171.78       103.80        103.75        3.81       3.24  113.39  B_3\n",
       "3    172.02       104.08        103.99        5.57       3.30  111.10  B_4\n",
       "4    171.79       104.34        104.37        5.00       3.07  111.87  B_5"
      ]
     },
     "execution_count": 10,
     "metadata": {},
     "output_type": "execute_result"
    }
   ],
   "source": [
    "# Visualisation des données de l'expérimentation.\n",
    "\n",
    "new_data_test"
   ]
  },
  {
   "cell_type": "code",
   "execution_count": 11,
   "id": "c50a9ee0",
   "metadata": {},
   "outputs": [
    {
     "name": "stdout",
     "output_type": "stream",
     "text": [
      "Les variables du fichier sont correctes. Voici un aperçu des données :\n",
      "\n",
      "    diagonal  height_left  height_right  margin_low  margin_up  length   id\n",
      "0    172.09       103.95        103.73        4.39       3.09  113.19  B_1\n",
      "1    171.52       104.17        104.03        5.27       3.16  111.82  B_2\n",
      "2    171.78       103.80        103.75        3.81       3.24  113.39  B_3\n",
      "3    172.02       104.08        103.99        5.57       3.30  111.10  B_4\n",
      "4    171.79       104.34        104.37        5.00       3.07  111.87  B_5\n"
     ]
    }
   ],
   "source": [
    "# Vérifions que toutes les données sont correctes.\n",
    "\n",
    "# vérification des variables.\n",
    "\n",
    "liste_X = [\"diagonal\",\"height_left\",\"height_right\",\"margin_low\",\"margin_up\",\"length\",\"id\"]\n",
    "if all([item in new_data_test.columns for item in liste_X]):\n",
    "    print(\"Les variables du fichier sont correctes. Voici un aperçu des données :\\n\\n\",new_data_test)\n",
    "else :\n",
    "    messagebox.showerror(title=\"Erreur d'importation du fichier\", message=\"Attention, les colonnes du fichier \"+root.filename+\" ne correspondent pas à la trame attendue !\")\n",
    "    sys.exit()"
   ]
  },
  {
   "cell_type": "code",
   "execution_count": 12,
   "id": "e79fa612",
   "metadata": {},
   "outputs": [
    {
     "name": "stdout",
     "output_type": "stream",
     "text": [
      "Aucune valeur nulle détectée, le traitement peut continuer.\n"
     ]
    }
   ],
   "source": [
    "# Vérification de l'absence des valeurs nulles dans les données de l'expérimentation.\n",
    "\n",
    "if((new_data_test.isnull().sum(axis = 0)).sum() > 0):\n",
    "    messagebox.showerror(title=\"Valeurs nulles détectées\", message=\"Attention, des valeurs nulles ont été détectées dans le fichier ! Traitement impossible en l'état.\")\n",
    "    sys.exit()\n",
    "else :\n",
    "    print(\"Aucune valeur nulle détectée, le traitement peut continuer.\")"
   ]
  },
  {
   "cell_type": "code",
   "execution_count": 13,
   "id": "118e4acf",
   "metadata": {},
   "outputs": [
    {
     "data": {
      "text/html": [
       "<div>\n",
       "<style scoped>\n",
       "    .dataframe tbody tr th:only-of-type {\n",
       "        vertical-align: middle;\n",
       "    }\n",
       "\n",
       "    .dataframe tbody tr th {\n",
       "        vertical-align: top;\n",
       "    }\n",
       "\n",
       "    .dataframe thead th {\n",
       "        text-align: right;\n",
       "    }\n",
       "</style>\n",
       "<table border=\"1\" class=\"dataframe\">\n",
       "  <thead>\n",
       "    <tr style=\"text-align: right;\">\n",
       "      <th></th>\n",
       "      <th>diagonal</th>\n",
       "      <th>height_left</th>\n",
       "      <th>height_right</th>\n",
       "      <th>margin_low</th>\n",
       "      <th>margin_up</th>\n",
       "      <th>length</th>\n",
       "    </tr>\n",
       "  </thead>\n",
       "  <tbody>\n",
       "    <tr>\n",
       "      <th>0</th>\n",
       "      <td>172.09</td>\n",
       "      <td>103.95</td>\n",
       "      <td>103.73</td>\n",
       "      <td>4.39</td>\n",
       "      <td>3.09</td>\n",
       "      <td>113.19</td>\n",
       "    </tr>\n",
       "    <tr>\n",
       "      <th>1</th>\n",
       "      <td>171.52</td>\n",
       "      <td>104.17</td>\n",
       "      <td>104.03</td>\n",
       "      <td>5.27</td>\n",
       "      <td>3.16</td>\n",
       "      <td>111.82</td>\n",
       "    </tr>\n",
       "    <tr>\n",
       "      <th>2</th>\n",
       "      <td>171.78</td>\n",
       "      <td>103.80</td>\n",
       "      <td>103.75</td>\n",
       "      <td>3.81</td>\n",
       "      <td>3.24</td>\n",
       "      <td>113.39</td>\n",
       "    </tr>\n",
       "    <tr>\n",
       "      <th>3</th>\n",
       "      <td>172.02</td>\n",
       "      <td>104.08</td>\n",
       "      <td>103.99</td>\n",
       "      <td>5.57</td>\n",
       "      <td>3.30</td>\n",
       "      <td>111.10</td>\n",
       "    </tr>\n",
       "    <tr>\n",
       "      <th>4</th>\n",
       "      <td>171.79</td>\n",
       "      <td>104.34</td>\n",
       "      <td>104.37</td>\n",
       "      <td>5.00</td>\n",
       "      <td>3.07</td>\n",
       "      <td>111.87</td>\n",
       "    </tr>\n",
       "  </tbody>\n",
       "</table>\n",
       "</div>"
      ],
      "text/plain": [
       "   diagonal  height_left  height_right  margin_low  margin_up  length\n",
       "0    172.09       103.95        103.73        4.39       3.09  113.19\n",
       "1    171.52       104.17        104.03        5.27       3.16  111.82\n",
       "2    171.78       103.80        103.75        3.81       3.24  113.39\n",
       "3    172.02       104.08        103.99        5.57       3.30  111.10\n",
       "4    171.79       104.34        104.37        5.00       3.07  111.87"
      ]
     },
     "execution_count": 13,
     "metadata": {},
     "output_type": "execute_result"
    }
   ],
   "source": [
    "# Déterminons des variables explicatives du Target (de la variable objectif).\n",
    "\n",
    "new_X = new_data_test[liste_X[:-1]]\n",
    "\n",
    "# Visualisation de la matrice des variables explicatives.\n",
    "\n",
    "new_X"
   ]
  },
  {
   "cell_type": "code",
   "execution_count": 14,
   "id": "3d5a5393",
   "metadata": {},
   "outputs": [],
   "source": [
    "# Déterminons les probabilités à affecter à l'échantillon de l'expérimentation.\n",
    "\n",
    "new_proba = model1_reg_log_sklearn_CV.predict_proba(new_X)"
   ]
  },
  {
   "cell_type": "code",
   "execution_count": 15,
   "id": "1de68aac",
   "metadata": {},
   "outputs": [],
   "source": [
    "# Déterminons le score de presence : Probalilité que le billet soit VRAI (is_genuine = 0).\n",
    "\n",
    "new_score = new_proba[:,0]"
   ]
  },
  {
   "cell_type": "code",
   "execution_count": 16,
   "id": "abc1931c",
   "metadata": {},
   "outputs": [],
   "source": [
    "# Intégration de la probabilité new_score dans le fichier d'expérimentation: new_data_test.\n",
    "\n",
    "new_data_test[\"proba_true\"] = new_score"
   ]
  },
  {
   "cell_type": "code",
   "execution_count": 17,
   "id": "cc3a9270",
   "metadata": {},
   "outputs": [],
   "source": [
    "#Détermination et définition de la Target variable (la variable objectif): is_genuine.\n",
    "\n",
    "new_data_test[\"is_genuine\"] = np.where(new_data_test[\"proba_true\"]>=0.5, 'Oui', 'Non')"
   ]
  },
  {
   "cell_type": "code",
   "execution_count": 18,
   "id": "c9557dc4",
   "metadata": {},
   "outputs": [],
   "source": [
    "# Traitement et explication du Dataframe finale pour une meilleure perception et compréhension.\n",
    "\n",
    "new_data_test_final = new_data_test[[\"id\",\"proba_true\",\"is_genuine\"]].rename(columns={\"id\":\"Identifiant du billet ayant été testé\",\n",
    "                                                                                      \"proba_true\":\"Probabilité que le billet soit VRAI (%)\",\n",
    "                                                                                      \"is_genuine\":\"Le billet est-il authentique ?\"})  \n",
    "\n",
    "# Arrondir la probabilité que le billet soit vrai à deux chiffres après la virgule.\n",
    "\n",
    "new_data_test_final[\"Probabilité que le billet soit VRAI (%)\"] = round((new_data_test_final[\"Probabilité que le billet soit VRAI (%)\"]*100),2)"
   ]
  },
  {
   "cell_type": "code",
   "execution_count": 19,
   "id": "f7f172d5",
   "metadata": {},
   "outputs": [
    {
     "data": {
      "text/html": [
       "<div>\n",
       "<style scoped>\n",
       "    .dataframe tbody tr th:only-of-type {\n",
       "        vertical-align: middle;\n",
       "    }\n",
       "\n",
       "    .dataframe tbody tr th {\n",
       "        vertical-align: top;\n",
       "    }\n",
       "\n",
       "    .dataframe thead th {\n",
       "        text-align: right;\n",
       "    }\n",
       "</style>\n",
       "<table border=\"1\" class=\"dataframe\">\n",
       "  <thead>\n",
       "    <tr style=\"text-align: right;\">\n",
       "      <th></th>\n",
       "      <th>Identifiant du billet ayant été testé</th>\n",
       "      <th>Probabilité que le billet soit VRAI (%)</th>\n",
       "      <th>Le billet est-il authentique ?</th>\n",
       "    </tr>\n",
       "  </thead>\n",
       "  <tbody>\n",
       "    <tr>\n",
       "      <th>0</th>\n",
       "      <td>B_1</td>\n",
       "      <td>0.25</td>\n",
       "      <td>Non</td>\n",
       "    </tr>\n",
       "    <tr>\n",
       "      <th>1</th>\n",
       "      <td>B_2</td>\n",
       "      <td>99.86</td>\n",
       "      <td>Oui</td>\n",
       "    </tr>\n",
       "    <tr>\n",
       "      <th>2</th>\n",
       "      <td>B_3</td>\n",
       "      <td>0.01</td>\n",
       "      <td>Non</td>\n",
       "    </tr>\n",
       "    <tr>\n",
       "      <th>3</th>\n",
       "      <td>B_4</td>\n",
       "      <td>100.00</td>\n",
       "      <td>Oui</td>\n",
       "    </tr>\n",
       "    <tr>\n",
       "      <th>4</th>\n",
       "      <td>B_5</td>\n",
       "      <td>99.54</td>\n",
       "      <td>Oui</td>\n",
       "    </tr>\n",
       "  </tbody>\n",
       "</table>\n",
       "</div>"
      ],
      "text/plain": [
       "  Identifiant du billet ayant été testé  \\\n",
       "0                                   B_1   \n",
       "1                                   B_2   \n",
       "2                                   B_3   \n",
       "3                                   B_4   \n",
       "4                                   B_5   \n",
       "\n",
       "   Probabilité que le billet soit VRAI (%) Le billet est-il authentique ?  \n",
       "0                                     0.25                            Non  \n",
       "1                                    99.86                            Oui  \n",
       "2                                     0.01                            Non  \n",
       "3                                   100.00                            Oui  \n",
       "4                                    99.54                            Oui  "
      ]
     },
     "execution_count": 19,
     "metadata": {},
     "output_type": "execute_result"
    }
   ],
   "source": [
    "# Visualisation du fichier de l'expérimentation finale et interprétation des résultats.\n",
    "\n",
    "new_data_test_final"
   ]
  },
  {
   "cell_type": "code",
   "execution_count": 20,
   "id": "fe000bc6",
   "metadata": {},
   "outputs": [
    {
     "name": "stdout",
     "output_type": "stream",
     "text": [
      "Les billets dont l'identifiant est dans la liste ['B_1', 'B_3'] \n",
      "ont été identifiés commes FAUX selon l'algorithme de prédiction.\n"
     ]
    }
   ],
   "source": [
    "# Etablissons la liste des faux billets de notre expérimentation.\n",
    "\n",
    "Liste_faux_billets = list(new_data_test_final.loc[(new_data_test_final[\"Le billet est-il authentique ?\"] == \"Non\"),\"Identifiant du billet ayant été testé\"].values)\n",
    "\n",
    "# Visualisation de la Liste des faux billets.\n",
    "\n",
    "print(\"Les billets dont l'identifiant est dans la liste\", Liste_faux_billets, \"\\nont été identifiés commes FAUX selon l'algorithme de prédiction.\")"
   ]
  },
  {
   "cell_type": "code",
   "execution_count": null,
   "id": "f1e67579",
   "metadata": {},
   "outputs": [],
   "source": []
  },
  {
   "cell_type": "code",
   "execution_count": null,
   "id": "deb4677f",
   "metadata": {},
   "outputs": [],
   "source": []
  }
 ],
 "metadata": {
  "kernelspec": {
   "display_name": "Python 3",
   "language": "python",
   "name": "python3"
  },
  "language_info": {
   "codemirror_mode": {
    "name": "ipython",
    "version": 3
   },
   "file_extension": ".py",
   "mimetype": "text/x-python",
   "name": "python",
   "nbconvert_exporter": "python",
   "pygments_lexer": "ipython3",
   "version": "3.8.8"
  }
 },
 "nbformat": 4,
 "nbformat_minor": 5
}
